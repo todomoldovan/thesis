{
 "cells": [
  {
   "cell_type": "code",
   "execution_count": 1,
   "metadata": {},
   "outputs": [],
   "source": [
    "import pandas as pd"
   ]
  },
  {
   "cell_type": "code",
   "execution_count": 2,
   "metadata": {},
   "outputs": [],
   "source": [
    "dataset = \"debates\""
   ]
  },
  {
   "cell_type": "markdown",
   "metadata": {},
   "source": [
    "# BERT classifier"
   ]
  },
  {
   "cell_type": "code",
   "execution_count": 3,
   "metadata": {},
   "outputs": [
    {
     "ename": "FileNotFoundError",
     "evalue": "[Errno 2] No such file or directory: '../data/predictions_roberta_simplified_synthetic_weights_debates.csv'",
     "output_type": "error",
     "traceback": [
      "\u001b[0;31m---------------------------------------------------------------------------\u001b[0m",
      "\u001b[0;31mFileNotFoundError\u001b[0m                         Traceback (most recent call last)",
      "Cell \u001b[0;32mIn[3], line 1\u001b[0m\n\u001b[0;32m----> 1\u001b[0m df \u001b[38;5;241m=\u001b[39m \u001b[43mpd\u001b[49m\u001b[38;5;241;43m.\u001b[39;49m\u001b[43mread_csv\u001b[49m\u001b[43m(\u001b[49m\u001b[38;5;124;43mf\u001b[39;49m\u001b[38;5;124;43m\"\u001b[39;49m\u001b[38;5;124;43m../data/predictions_roberta_simplified_synthetic_weights_\u001b[39;49m\u001b[38;5;132;43;01m{\u001b[39;49;00m\u001b[43mdataset\u001b[49m\u001b[38;5;132;43;01m}\u001b[39;49;00m\u001b[38;5;124;43m.csv\u001b[39;49m\u001b[38;5;124;43m\"\u001b[39;49m\u001b[43m)\u001b[49m\n\u001b[1;32m      2\u001b[0m df[\u001b[38;5;124m\"\u001b[39m\u001b[38;5;124mprob_action\u001b[39m\u001b[38;5;124m\"\u001b[39m] \u001b[38;5;241m=\u001b[39m df[\u001b[38;5;124m\"\u001b[39m\u001b[38;5;124mclass_probabilities\u001b[39m\u001b[38;5;124m\"\u001b[39m]\u001b[38;5;241m.\u001b[39mapply(\u001b[38;5;28;01mlambda\u001b[39;00m x: \u001b[38;5;28mfloat\u001b[39m(x\u001b[38;5;241m.\u001b[39msplit(\u001b[38;5;124m\"\u001b[39m\u001b[38;5;124m,\u001b[39m\u001b[38;5;124m\"\u001b[39m)[\u001b[38;5;241m0\u001b[39m]\u001b[38;5;241m.\u001b[39msplit(\u001b[38;5;124m\"\u001b[39m\u001b[38;5;124m[\u001b[39m\u001b[38;5;124m\"\u001b[39m)[\u001b[38;5;241m1\u001b[39m]))\n\u001b[1;32m      3\u001b[0m df[\u001b[38;5;124m\"\u001b[39m\u001b[38;5;124mprob_nonaction\u001b[39m\u001b[38;5;124m\"\u001b[39m] \u001b[38;5;241m=\u001b[39m df[\u001b[38;5;124m\"\u001b[39m\u001b[38;5;124mclass_probabilities\u001b[39m\u001b[38;5;124m\"\u001b[39m]\u001b[38;5;241m.\u001b[39mapply(\u001b[38;5;28;01mlambda\u001b[39;00m x: \u001b[38;5;28mfloat\u001b[39m(x\u001b[38;5;241m.\u001b[39msplit(\u001b[38;5;124m\"\u001b[39m\u001b[38;5;124m,\u001b[39m\u001b[38;5;124m\"\u001b[39m)[\u001b[38;5;241m1\u001b[39m]\u001b[38;5;241m.\u001b[39msplit(\u001b[38;5;124m\"\u001b[39m\u001b[38;5;124m]\u001b[39m\u001b[38;5;124m\"\u001b[39m)[\u001b[38;5;241m0\u001b[39m]))\n",
      "File \u001b[0;32m~/anaconda3/envs/thesis/lib/python3.8/site-packages/pandas/util/_decorators.py:211\u001b[0m, in \u001b[0;36mdeprecate_kwarg.<locals>._deprecate_kwarg.<locals>.wrapper\u001b[0;34m(*args, **kwargs)\u001b[0m\n\u001b[1;32m    209\u001b[0m     \u001b[38;5;28;01melse\u001b[39;00m:\n\u001b[1;32m    210\u001b[0m         kwargs[new_arg_name] \u001b[38;5;241m=\u001b[39m new_arg_value\n\u001b[0;32m--> 211\u001b[0m \u001b[38;5;28;01mreturn\u001b[39;00m \u001b[43mfunc\u001b[49m\u001b[43m(\u001b[49m\u001b[38;5;241;43m*\u001b[39;49m\u001b[43margs\u001b[49m\u001b[43m,\u001b[49m\u001b[43m \u001b[49m\u001b[38;5;241;43m*\u001b[39;49m\u001b[38;5;241;43m*\u001b[39;49m\u001b[43mkwargs\u001b[49m\u001b[43m)\u001b[49m\n",
      "File \u001b[0;32m~/anaconda3/envs/thesis/lib/python3.8/site-packages/pandas/util/_decorators.py:331\u001b[0m, in \u001b[0;36mdeprecate_nonkeyword_arguments.<locals>.decorate.<locals>.wrapper\u001b[0;34m(*args, **kwargs)\u001b[0m\n\u001b[1;32m    325\u001b[0m \u001b[38;5;28;01mif\u001b[39;00m \u001b[38;5;28mlen\u001b[39m(args) \u001b[38;5;241m>\u001b[39m num_allow_args:\n\u001b[1;32m    326\u001b[0m     warnings\u001b[38;5;241m.\u001b[39mwarn(\n\u001b[1;32m    327\u001b[0m         msg\u001b[38;5;241m.\u001b[39mformat(arguments\u001b[38;5;241m=\u001b[39m_format_argument_list(allow_args)),\n\u001b[1;32m    328\u001b[0m         \u001b[38;5;167;01mFutureWarning\u001b[39;00m,\n\u001b[1;32m    329\u001b[0m         stacklevel\u001b[38;5;241m=\u001b[39mfind_stack_level(),\n\u001b[1;32m    330\u001b[0m     )\n\u001b[0;32m--> 331\u001b[0m \u001b[38;5;28;01mreturn\u001b[39;00m \u001b[43mfunc\u001b[49m\u001b[43m(\u001b[49m\u001b[38;5;241;43m*\u001b[39;49m\u001b[43margs\u001b[49m\u001b[43m,\u001b[49m\u001b[43m \u001b[49m\u001b[38;5;241;43m*\u001b[39;49m\u001b[38;5;241;43m*\u001b[39;49m\u001b[43mkwargs\u001b[49m\u001b[43m)\u001b[49m\n",
      "File \u001b[0;32m~/anaconda3/envs/thesis/lib/python3.8/site-packages/pandas/io/parsers/readers.py:950\u001b[0m, in \u001b[0;36mread_csv\u001b[0;34m(filepath_or_buffer, sep, delimiter, header, names, index_col, usecols, squeeze, prefix, mangle_dupe_cols, dtype, engine, converters, true_values, false_values, skipinitialspace, skiprows, skipfooter, nrows, na_values, keep_default_na, na_filter, verbose, skip_blank_lines, parse_dates, infer_datetime_format, keep_date_col, date_parser, dayfirst, cache_dates, iterator, chunksize, compression, thousands, decimal, lineterminator, quotechar, quoting, doublequote, escapechar, comment, encoding, encoding_errors, dialect, error_bad_lines, warn_bad_lines, on_bad_lines, delim_whitespace, low_memory, memory_map, float_precision, storage_options)\u001b[0m\n\u001b[1;32m    935\u001b[0m kwds_defaults \u001b[38;5;241m=\u001b[39m _refine_defaults_read(\n\u001b[1;32m    936\u001b[0m     dialect,\n\u001b[1;32m    937\u001b[0m     delimiter,\n\u001b[0;32m   (...)\u001b[0m\n\u001b[1;32m    946\u001b[0m     defaults\u001b[38;5;241m=\u001b[39m{\u001b[38;5;124m\"\u001b[39m\u001b[38;5;124mdelimiter\u001b[39m\u001b[38;5;124m\"\u001b[39m: \u001b[38;5;124m\"\u001b[39m\u001b[38;5;124m,\u001b[39m\u001b[38;5;124m\"\u001b[39m},\n\u001b[1;32m    947\u001b[0m )\n\u001b[1;32m    948\u001b[0m kwds\u001b[38;5;241m.\u001b[39mupdate(kwds_defaults)\n\u001b[0;32m--> 950\u001b[0m \u001b[38;5;28;01mreturn\u001b[39;00m \u001b[43m_read\u001b[49m\u001b[43m(\u001b[49m\u001b[43mfilepath_or_buffer\u001b[49m\u001b[43m,\u001b[49m\u001b[43m \u001b[49m\u001b[43mkwds\u001b[49m\u001b[43m)\u001b[49m\n",
      "File \u001b[0;32m~/anaconda3/envs/thesis/lib/python3.8/site-packages/pandas/io/parsers/readers.py:605\u001b[0m, in \u001b[0;36m_read\u001b[0;34m(filepath_or_buffer, kwds)\u001b[0m\n\u001b[1;32m    602\u001b[0m _validate_names(kwds\u001b[38;5;241m.\u001b[39mget(\u001b[38;5;124m\"\u001b[39m\u001b[38;5;124mnames\u001b[39m\u001b[38;5;124m\"\u001b[39m, \u001b[38;5;28;01mNone\u001b[39;00m))\n\u001b[1;32m    604\u001b[0m \u001b[38;5;66;03m# Create the parser.\u001b[39;00m\n\u001b[0;32m--> 605\u001b[0m parser \u001b[38;5;241m=\u001b[39m \u001b[43mTextFileReader\u001b[49m\u001b[43m(\u001b[49m\u001b[43mfilepath_or_buffer\u001b[49m\u001b[43m,\u001b[49m\u001b[43m \u001b[49m\u001b[38;5;241;43m*\u001b[39;49m\u001b[38;5;241;43m*\u001b[39;49m\u001b[43mkwds\u001b[49m\u001b[43m)\u001b[49m\n\u001b[1;32m    607\u001b[0m \u001b[38;5;28;01mif\u001b[39;00m chunksize \u001b[38;5;129;01mor\u001b[39;00m iterator:\n\u001b[1;32m    608\u001b[0m     \u001b[38;5;28;01mreturn\u001b[39;00m parser\n",
      "File \u001b[0;32m~/anaconda3/envs/thesis/lib/python3.8/site-packages/pandas/io/parsers/readers.py:1442\u001b[0m, in \u001b[0;36mTextFileReader.__init__\u001b[0;34m(self, f, engine, **kwds)\u001b[0m\n\u001b[1;32m   1439\u001b[0m     \u001b[38;5;28mself\u001b[39m\u001b[38;5;241m.\u001b[39moptions[\u001b[38;5;124m\"\u001b[39m\u001b[38;5;124mhas_index_names\u001b[39m\u001b[38;5;124m\"\u001b[39m] \u001b[38;5;241m=\u001b[39m kwds[\u001b[38;5;124m\"\u001b[39m\u001b[38;5;124mhas_index_names\u001b[39m\u001b[38;5;124m\"\u001b[39m]\n\u001b[1;32m   1441\u001b[0m \u001b[38;5;28mself\u001b[39m\u001b[38;5;241m.\u001b[39mhandles: IOHandles \u001b[38;5;241m|\u001b[39m \u001b[38;5;28;01mNone\u001b[39;00m \u001b[38;5;241m=\u001b[39m \u001b[38;5;28;01mNone\u001b[39;00m\n\u001b[0;32m-> 1442\u001b[0m \u001b[38;5;28mself\u001b[39m\u001b[38;5;241m.\u001b[39m_engine \u001b[38;5;241m=\u001b[39m \u001b[38;5;28;43mself\u001b[39;49m\u001b[38;5;241;43m.\u001b[39;49m\u001b[43m_make_engine\u001b[49m\u001b[43m(\u001b[49m\u001b[43mf\u001b[49m\u001b[43m,\u001b[49m\u001b[43m \u001b[49m\u001b[38;5;28;43mself\u001b[39;49m\u001b[38;5;241;43m.\u001b[39;49m\u001b[43mengine\u001b[49m\u001b[43m)\u001b[49m\n",
      "File \u001b[0;32m~/anaconda3/envs/thesis/lib/python3.8/site-packages/pandas/io/parsers/readers.py:1735\u001b[0m, in \u001b[0;36mTextFileReader._make_engine\u001b[0;34m(self, f, engine)\u001b[0m\n\u001b[1;32m   1733\u001b[0m     \u001b[38;5;28;01mif\u001b[39;00m \u001b[38;5;124m\"\u001b[39m\u001b[38;5;124mb\u001b[39m\u001b[38;5;124m\"\u001b[39m \u001b[38;5;129;01mnot\u001b[39;00m \u001b[38;5;129;01min\u001b[39;00m mode:\n\u001b[1;32m   1734\u001b[0m         mode \u001b[38;5;241m+\u001b[39m\u001b[38;5;241m=\u001b[39m \u001b[38;5;124m\"\u001b[39m\u001b[38;5;124mb\u001b[39m\u001b[38;5;124m\"\u001b[39m\n\u001b[0;32m-> 1735\u001b[0m \u001b[38;5;28mself\u001b[39m\u001b[38;5;241m.\u001b[39mhandles \u001b[38;5;241m=\u001b[39m \u001b[43mget_handle\u001b[49m\u001b[43m(\u001b[49m\n\u001b[1;32m   1736\u001b[0m \u001b[43m    \u001b[49m\u001b[43mf\u001b[49m\u001b[43m,\u001b[49m\n\u001b[1;32m   1737\u001b[0m \u001b[43m    \u001b[49m\u001b[43mmode\u001b[49m\u001b[43m,\u001b[49m\n\u001b[1;32m   1738\u001b[0m \u001b[43m    \u001b[49m\u001b[43mencoding\u001b[49m\u001b[38;5;241;43m=\u001b[39;49m\u001b[38;5;28;43mself\u001b[39;49m\u001b[38;5;241;43m.\u001b[39;49m\u001b[43moptions\u001b[49m\u001b[38;5;241;43m.\u001b[39;49m\u001b[43mget\u001b[49m\u001b[43m(\u001b[49m\u001b[38;5;124;43m\"\u001b[39;49m\u001b[38;5;124;43mencoding\u001b[39;49m\u001b[38;5;124;43m\"\u001b[39;49m\u001b[43m,\u001b[49m\u001b[43m \u001b[49m\u001b[38;5;28;43;01mNone\u001b[39;49;00m\u001b[43m)\u001b[49m\u001b[43m,\u001b[49m\n\u001b[1;32m   1739\u001b[0m \u001b[43m    \u001b[49m\u001b[43mcompression\u001b[49m\u001b[38;5;241;43m=\u001b[39;49m\u001b[38;5;28;43mself\u001b[39;49m\u001b[38;5;241;43m.\u001b[39;49m\u001b[43moptions\u001b[49m\u001b[38;5;241;43m.\u001b[39;49m\u001b[43mget\u001b[49m\u001b[43m(\u001b[49m\u001b[38;5;124;43m\"\u001b[39;49m\u001b[38;5;124;43mcompression\u001b[39;49m\u001b[38;5;124;43m\"\u001b[39;49m\u001b[43m,\u001b[49m\u001b[43m \u001b[49m\u001b[38;5;28;43;01mNone\u001b[39;49;00m\u001b[43m)\u001b[49m\u001b[43m,\u001b[49m\n\u001b[1;32m   1740\u001b[0m \u001b[43m    \u001b[49m\u001b[43mmemory_map\u001b[49m\u001b[38;5;241;43m=\u001b[39;49m\u001b[38;5;28;43mself\u001b[39;49m\u001b[38;5;241;43m.\u001b[39;49m\u001b[43moptions\u001b[49m\u001b[38;5;241;43m.\u001b[39;49m\u001b[43mget\u001b[49m\u001b[43m(\u001b[49m\u001b[38;5;124;43m\"\u001b[39;49m\u001b[38;5;124;43mmemory_map\u001b[39;49m\u001b[38;5;124;43m\"\u001b[39;49m\u001b[43m,\u001b[49m\u001b[43m \u001b[49m\u001b[38;5;28;43;01mFalse\u001b[39;49;00m\u001b[43m)\u001b[49m\u001b[43m,\u001b[49m\n\u001b[1;32m   1741\u001b[0m \u001b[43m    \u001b[49m\u001b[43mis_text\u001b[49m\u001b[38;5;241;43m=\u001b[39;49m\u001b[43mis_text\u001b[49m\u001b[43m,\u001b[49m\n\u001b[1;32m   1742\u001b[0m \u001b[43m    \u001b[49m\u001b[43merrors\u001b[49m\u001b[38;5;241;43m=\u001b[39;49m\u001b[38;5;28;43mself\u001b[39;49m\u001b[38;5;241;43m.\u001b[39;49m\u001b[43moptions\u001b[49m\u001b[38;5;241;43m.\u001b[39;49m\u001b[43mget\u001b[49m\u001b[43m(\u001b[49m\u001b[38;5;124;43m\"\u001b[39;49m\u001b[38;5;124;43mencoding_errors\u001b[39;49m\u001b[38;5;124;43m\"\u001b[39;49m\u001b[43m,\u001b[49m\u001b[43m \u001b[49m\u001b[38;5;124;43m\"\u001b[39;49m\u001b[38;5;124;43mstrict\u001b[39;49m\u001b[38;5;124;43m\"\u001b[39;49m\u001b[43m)\u001b[49m\u001b[43m,\u001b[49m\n\u001b[1;32m   1743\u001b[0m \u001b[43m    \u001b[49m\u001b[43mstorage_options\u001b[49m\u001b[38;5;241;43m=\u001b[39;49m\u001b[38;5;28;43mself\u001b[39;49m\u001b[38;5;241;43m.\u001b[39;49m\u001b[43moptions\u001b[49m\u001b[38;5;241;43m.\u001b[39;49m\u001b[43mget\u001b[49m\u001b[43m(\u001b[49m\u001b[38;5;124;43m\"\u001b[39;49m\u001b[38;5;124;43mstorage_options\u001b[39;49m\u001b[38;5;124;43m\"\u001b[39;49m\u001b[43m,\u001b[49m\u001b[43m \u001b[49m\u001b[38;5;28;43;01mNone\u001b[39;49;00m\u001b[43m)\u001b[49m\u001b[43m,\u001b[49m\n\u001b[1;32m   1744\u001b[0m \u001b[43m\u001b[49m\u001b[43m)\u001b[49m\n\u001b[1;32m   1745\u001b[0m \u001b[38;5;28;01massert\u001b[39;00m \u001b[38;5;28mself\u001b[39m\u001b[38;5;241m.\u001b[39mhandles \u001b[38;5;129;01mis\u001b[39;00m \u001b[38;5;129;01mnot\u001b[39;00m \u001b[38;5;28;01mNone\u001b[39;00m\n\u001b[1;32m   1746\u001b[0m f \u001b[38;5;241m=\u001b[39m \u001b[38;5;28mself\u001b[39m\u001b[38;5;241m.\u001b[39mhandles\u001b[38;5;241m.\u001b[39mhandle\n",
      "File \u001b[0;32m~/anaconda3/envs/thesis/lib/python3.8/site-packages/pandas/io/common.py:856\u001b[0m, in \u001b[0;36mget_handle\u001b[0;34m(path_or_buf, mode, encoding, compression, memory_map, is_text, errors, storage_options)\u001b[0m\n\u001b[1;32m    851\u001b[0m \u001b[38;5;28;01melif\u001b[39;00m \u001b[38;5;28misinstance\u001b[39m(handle, \u001b[38;5;28mstr\u001b[39m):\n\u001b[1;32m    852\u001b[0m     \u001b[38;5;66;03m# Check whether the filename is to be opened in binary mode.\u001b[39;00m\n\u001b[1;32m    853\u001b[0m     \u001b[38;5;66;03m# Binary mode does not support 'encoding' and 'newline'.\u001b[39;00m\n\u001b[1;32m    854\u001b[0m     \u001b[38;5;28;01mif\u001b[39;00m ioargs\u001b[38;5;241m.\u001b[39mencoding \u001b[38;5;129;01mand\u001b[39;00m \u001b[38;5;124m\"\u001b[39m\u001b[38;5;124mb\u001b[39m\u001b[38;5;124m\"\u001b[39m \u001b[38;5;129;01mnot\u001b[39;00m \u001b[38;5;129;01min\u001b[39;00m ioargs\u001b[38;5;241m.\u001b[39mmode:\n\u001b[1;32m    855\u001b[0m         \u001b[38;5;66;03m# Encoding\u001b[39;00m\n\u001b[0;32m--> 856\u001b[0m         handle \u001b[38;5;241m=\u001b[39m \u001b[38;5;28;43mopen\u001b[39;49m\u001b[43m(\u001b[49m\n\u001b[1;32m    857\u001b[0m \u001b[43m            \u001b[49m\u001b[43mhandle\u001b[49m\u001b[43m,\u001b[49m\n\u001b[1;32m    858\u001b[0m \u001b[43m            \u001b[49m\u001b[43mioargs\u001b[49m\u001b[38;5;241;43m.\u001b[39;49m\u001b[43mmode\u001b[49m\u001b[43m,\u001b[49m\n\u001b[1;32m    859\u001b[0m \u001b[43m            \u001b[49m\u001b[43mencoding\u001b[49m\u001b[38;5;241;43m=\u001b[39;49m\u001b[43mioargs\u001b[49m\u001b[38;5;241;43m.\u001b[39;49m\u001b[43mencoding\u001b[49m\u001b[43m,\u001b[49m\n\u001b[1;32m    860\u001b[0m \u001b[43m            \u001b[49m\u001b[43merrors\u001b[49m\u001b[38;5;241;43m=\u001b[39;49m\u001b[43merrors\u001b[49m\u001b[43m,\u001b[49m\n\u001b[1;32m    861\u001b[0m \u001b[43m            \u001b[49m\u001b[43mnewline\u001b[49m\u001b[38;5;241;43m=\u001b[39;49m\u001b[38;5;124;43m\"\u001b[39;49m\u001b[38;5;124;43m\"\u001b[39;49m\u001b[43m,\u001b[49m\n\u001b[1;32m    862\u001b[0m \u001b[43m        \u001b[49m\u001b[43m)\u001b[49m\n\u001b[1;32m    863\u001b[0m     \u001b[38;5;28;01melse\u001b[39;00m:\n\u001b[1;32m    864\u001b[0m         \u001b[38;5;66;03m# Binary mode\u001b[39;00m\n\u001b[1;32m    865\u001b[0m         handle \u001b[38;5;241m=\u001b[39m \u001b[38;5;28mopen\u001b[39m(handle, ioargs\u001b[38;5;241m.\u001b[39mmode)\n",
      "\u001b[0;31mFileNotFoundError\u001b[0m: [Errno 2] No such file or directory: '../data/predictions_roberta_simplified_synthetic_weights_debates.csv'"
     ]
    }
   ],
   "source": [
    "df = pd.read_csv(f\"../data/predictions_roberta_simplified_synthetic_weights_{dataset}.csv\")\n",
    "df[\"prob_action\"] = df[\"class_probabilities\"].apply(lambda x: float(x.split(\",\")[0].split(\"[\")[1]))\n",
    "df[\"prob_nonaction\"] = df[\"class_probabilities\"].apply(lambda x: float(x.split(\",\")[1].split(\"]\")[0]))"
   ]
  },
  {
   "cell_type": "code",
   "execution_count": 13,
   "metadata": {},
   "outputs": [
    {
     "data": {
      "text/html": [
       "<div>\n",
       "<style scoped>\n",
       "    .dataframe tbody tr th:only-of-type {\n",
       "        vertical-align: middle;\n",
       "    }\n",
       "\n",
       "    .dataframe tbody tr th {\n",
       "        vertical-align: top;\n",
       "    }\n",
       "\n",
       "    .dataframe thead th {\n",
       "        text-align: right;\n",
       "    }\n",
       "</style>\n",
       "<table border=\"1\" class=\"dataframe\">\n",
       "  <thead>\n",
       "    <tr style=\"text-align: right;\">\n",
       "      <th></th>\n",
       "      <th>speech</th>\n",
       "      <th>text</th>\n",
       "      <th>id</th>\n",
       "      <th>predictions</th>\n",
       "      <th>class_probabilities</th>\n",
       "      <th>prob_action</th>\n",
       "      <th>prob_nonaction</th>\n",
       "    </tr>\n",
       "  </thead>\n",
       "  <tbody>\n",
       "    <tr>\n",
       "      <th>0</th>\n",
       "      <td>The hon. Gentleman really should not expect me...</td>\n",
       "      <td>The hon. Gentleman really should not expect me...</td>\n",
       "      <td>0</td>\n",
       "      <td>1</td>\n",
       "      <td>[0.00017605619542612462, 0.9998239438045738]</td>\n",
       "      <td>0.000176</td>\n",
       "      <td>0.999824</td>\n",
       "    </tr>\n",
       "    <tr>\n",
       "      <th>1</th>\n",
       "      <td>I remind Members that, in Committee, Members s...</td>\n",
       "      <td>I remind Members that, in Committee, Members s...</td>\n",
       "      <td>1</td>\n",
       "      <td>1</td>\n",
       "      <td>[8.061209438181984e-05, 0.9999193879056183]</td>\n",
       "      <td>0.000081</td>\n",
       "      <td>0.999919</td>\n",
       "    </tr>\n",
       "    <tr>\n",
       "      <th>2</th>\n",
       "      <td>I call the shadow Secretary of State.</td>\n",
       "      <td>I call the shadow Secretary of State.</td>\n",
       "      <td>2</td>\n",
       "      <td>1</td>\n",
       "      <td>[0.0001795279693467774, 0.9998204720306533]</td>\n",
       "      <td>0.000180</td>\n",
       "      <td>0.999820</td>\n",
       "    </tr>\n",
       "    <tr>\n",
       "      <th>3</th>\n",
       "      <td>I had anticipated a slightly longer opening sp...</td>\n",
       "      <td>I had anticipated a slightly longer opening sp...</td>\n",
       "      <td>3</td>\n",
       "      <td>1</td>\n",
       "      <td>[5.225226840386987e-05, 0.999947747731596]</td>\n",
       "      <td>0.000052</td>\n",
       "      <td>0.999948</td>\n",
       "    </tr>\n",
       "    <tr>\n",
       "      <th>4</th>\n",
       "      <td>That too is an important point. Obviously, any...</td>\n",
       "      <td>That too is an important point. Obviously, any...</td>\n",
       "      <td>4</td>\n",
       "      <td>1</td>\n",
       "      <td>[0.00011235328063870753, 0.9998876467193613]</td>\n",
       "      <td>0.000112</td>\n",
       "      <td>0.999888</td>\n",
       "    </tr>\n",
       "  </tbody>\n",
       "</table>\n",
       "</div>"
      ],
      "text/plain": [
       "                                              speech  \\\n",
       "0  The hon. Gentleman really should not expect me...   \n",
       "1  I remind Members that, in Committee, Members s...   \n",
       "2              I call the shadow Secretary of State.   \n",
       "3  I had anticipated a slightly longer opening sp...   \n",
       "4  That too is an important point. Obviously, any...   \n",
       "\n",
       "                                                text  id  predictions  \\\n",
       "0  The hon. Gentleman really should not expect me...   0            1   \n",
       "1  I remind Members that, in Committee, Members s...   1            1   \n",
       "2              I call the shadow Secretary of State.   2            1   \n",
       "3  I had anticipated a slightly longer opening sp...   3            1   \n",
       "4  That too is an important point. Obviously, any...   4            1   \n",
       "\n",
       "                            class_probabilities  prob_action  prob_nonaction  \n",
       "0  [0.00017605619542612462, 0.9998239438045738]     0.000176        0.999824  \n",
       "1   [8.061209438181984e-05, 0.9999193879056183]     0.000081        0.999919  \n",
       "2   [0.0001795279693467774, 0.9998204720306533]     0.000180        0.999820  \n",
       "3    [5.225226840386987e-05, 0.999947747731596]     0.000052        0.999948  \n",
       "4  [0.00011235328063870753, 0.9998876467193613]     0.000112        0.999888  "
      ]
     },
     "execution_count": 13,
     "metadata": {},
     "output_type": "execute_result"
    }
   ],
   "source": [
    "df.head()"
   ]
  },
  {
   "cell_type": "code",
   "execution_count": 14,
   "metadata": {},
   "outputs": [
    {
     "data": {
      "text/plain": [
       "0.27340129749768305"
      ]
     },
     "execution_count": 14,
     "metadata": {},
     "output_type": "execute_result"
    }
   ],
   "source": [
    "df[df[\"predictions\"]==0].shape[0]/df.shape[0]"
   ]
  },
  {
   "cell_type": "code",
   "execution_count": 15,
   "metadata": {},
   "outputs": [
    {
     "data": {
      "text/plain": [
       "count    1079.000000\n",
       "mean        0.272008\n",
       "std         0.425477\n",
       "min         0.000038\n",
       "25%         0.000073\n",
       "50%         0.000185\n",
       "75%         0.833796\n",
       "max         0.999956\n",
       "Name: prob_action, dtype: float64"
      ]
     },
     "execution_count": 15,
     "metadata": {},
     "output_type": "execute_result"
    }
   ],
   "source": [
    "df[\"prob_action\"].describe()"
   ]
  },
  {
   "cell_type": "code",
   "execution_count": 16,
   "metadata": {},
   "outputs": [],
   "source": [
    "df.drop(columns=[\"class_probabilities\"], inplace=True)"
   ]
  },
  {
   "cell_type": "code",
   "execution_count": 17,
   "metadata": {},
   "outputs": [
    {
     "name": "stdout",
     "output_type": "stream",
     "text": [
      "                                                 speech  \\\n",
      "301   If no one else wishes to speak, we will come t...   \n",
      "109   There is a desperate need for increased humani...   \n",
      "99    I would point to others, such as the Superloop...   \n",
      "915   The Israeli Government have said that they wan...   \n",
      "1013  The hon. Lady will be pleased to hear that I h...   \n",
      "\n",
      "                                                   text    id  predictions  \\\n",
      "301   If no one else wishes to speak, we will come t...   301            0   \n",
      "109   There is a desperate need for increased humani...   109            0   \n",
      "99    I would point to others, such as the Superloop...    99            0   \n",
      "915   The Israeli Government have said that they wan...   915            0   \n",
      "1013  The hon. Lady will be pleased to hear that I h...  1013            0   \n",
      "\n",
      "      prob_action  prob_nonaction  \n",
      "301      0.999956        0.000044  \n",
      "109      0.999951        0.000049  \n",
      "99       0.999943        0.000057  \n",
      "915      0.999934        0.000066  \n",
      "1013     0.999929        0.000071  \n",
      "                                                speech  \\\n",
      "88   I accept what the Minister has just said, but ...   \n",
      "6    Is this an example of my being more hardline t...   \n",
      "798  With great respect to the right hon. Gentleman...   \n",
      "313  What recent assessment he has made of trends i...   \n",
      "670  It would be a little bit of a stretch to comme...   \n",
      "\n",
      "                                                  text   id  predictions  \\\n",
      "88   I accept what the Minister has just said, but ...   88            1   \n",
      "6    Is this an example of my being more hardline t...    6            1   \n",
      "798  With great respect to the right hon. Gentleman...  798            1   \n",
      "313  What recent assessment he has made of trends i...  313            1   \n",
      "670  It would be a little bit of a stretch to comme...  670            1   \n",
      "\n",
      "     prob_action  prob_nonaction  \n",
      "88      0.000042        0.999958  \n",
      "6       0.000041        0.999959  \n",
      "798     0.000040        0.999960  \n",
      "313     0.000040        0.999960  \n",
      "670     0.000038        0.999962  \n"
     ]
    }
   ],
   "source": [
    "df = df.sort_values(by=\"prob_action\", ascending=False)\n",
    "print(df.head())\n",
    "print(df.tail())"
   ]
  },
  {
   "cell_type": "code",
   "execution_count": 20,
   "metadata": {},
   "outputs": [
    {
     "data": {
      "text/plain": [
       "['If no one else wishes to speak, we will come to the Front Benchers. I call the shadow Minister.',\n",
       " 'There is a desperate need for increased humanitarian support to Gaza. The UK, including the Ministry of Defence, is working collectively with allies, partners and international organisations to deliver desperately needed aid to the Gazan population.',\n",
       " 'I would point to others, such as the Superloop—the new buses that will go around London—and the Elizabeth line. The Mayor will be able to invest more in public services because of the revenue from the ULEZ scheme, enabling people to travel on our public transport. That is the action we need to take to really clean up our air. I have even taken to the streets for Clean Air Day to measure the clean air—or the polluted air—on Putney High Street. I used an ultra-fine particle counter, lent to me by the environmental research group at Imperial College London. It was amazing to take the counter out for the day and see the effects of air pollution. As I went down some of our main roads—Upper Richmond Road, Lower Richmond Road and Putney High Street—I saw a spike when buses and polluting cars came by. I thought there would be a constant level of dirty and polluted air, but it went up and down. I could see the impact of diesel buses and polluting cars. I thought of all the times that I had taken my children to primary school in Wandsworth over 15 years, walking along very polluted roads. All that time, it was damaging their lungs. This was worrying for me to see and for my constituents to know about.',\n",
       " 'The Israeli Government have said that they want to “flood” Gaza with aid. Will my right hon. Friend assure the House that we will work with our partners globally to get more aid into the hands of civilians in Gaza, and will assist the Israelis to deliver on that pledge as soon as possible?',\n",
       " 'The hon. Lady will be pleased to hear that I have sent teams both to Tampa to work with US Central Command and to the region to help with planning and constructing that pier. In addition, right at the beginning of the conflict, I ensured that we did hydrographic research, to aid in exactly this kind of situation, when the conditions were right to get a pier built. This is not a trivial endeavour, but we are working to deliver the pier as quickly as possible; there is the potential to get 2.5 million meals a day to Gaza.',\n",
       " 'The hon. Lady will be pleased to hear that the Foreign Secretary, the Prime Minister and I have been very proactive in speaking to and making multiple visits to the region. I have visited the majority of countries in the middle east and Gulf region to discuss exactly the points that she has raised. There is now a large-scale programme of using a pier to get food in, in addition to the many other efforts made. As my hon. Friend the Member for Colchester (Will Quince)',\n",
       " 'The first thing we need to do is bring greater transparency to service charges, which is what we are trying to do through the Leasehold and Freehold Reform Bill. Assuming that progress is made in the other place, I hope that it will be on the statute book as quickly as possible, and then it will be clear exactly where such costs come from. The second thing that is that our colleagues in the Financial Conduct Authority are bringing in the fair charging regime to make sure there are no inappropriate commissions and that, from an insurance perspective, exchanges are not under way with brokers, which will hopefully reduce the costs. The third thing is the industry-led insurance scheme, which should hopefully bring down insurance costs for those who are most exposed. However, the hon. Gentleman is absolutely right: we need greater transparency and a greater understanding of where these costs are going, and we need to make sure that freeholders and managing agents are following the law, which is very clear about the kinds of costs that can and cannot be allocated. If there is something specific about the building he mentions that the Government can look at, I will happily talk to him separately.',\n",
       " 'The Government will do everything we can in the interests of transparency, but I am sure that my hon. Friend appreciates that we, like everybody else, are bound by the Data Protection Act.',\n",
       " 'We are working to try to bring supplies to all the citizens of Gaza. I did not run through the list of provisions, but it does include provisions for those in medical need, particularly women who may be pregnant. As I mentioned, we are working on plans with the Americans in particular, but also with the Jordanians, to provide vastly greater amounts of aid into Gaza.',\n",
       " 'The remedy for what the hon. Gentleman so eloquently describes in his question rests with Hamas and the negotiators in Qatar. If they release the hostages and a pause is agreed, that will lead to the resolution of all the points that he has so rightly made.']"
      ]
     },
     "execution_count": 20,
     "metadata": {},
     "output_type": "execute_result"
    }
   ],
   "source": [
    "df[:10][\"text\"].to_list()"
   ]
  },
  {
   "cell_type": "code",
   "execution_count": 21,
   "metadata": {},
   "outputs": [
    {
     "data": {
      "text/plain": [
       "['Further to that point of order, Mr Deputy Speaker. Would it be in order to reveal the identity of the person concerned? I notice that that did not happen yesterday, but it is well known who that person is and how well qualified he is for the post for which he has been recommended.',\n",
       " 'I said that we are not going to be partisan in this debate, and the shadow Minister started in that vein, but my right hon. Friend has been highly contentious about the Bill that I took through the House. Bear in mind that it had pre-legislative scrutiny with a Committee of both Houses, it had at least three reports in advance of being considered by this House, and it was debated in this House at length, in the same spirit that I mentioned earlier, and many amendments were tabled, many of which were accepted by the Government. I have described the pretty full consideration and scrutiny that it received, which is why it is such an essential piece of legislation, as the Minister will confirm, and is used by the security services and the police every day.',\n",
       " 'The hon. Gentleman’s point is made more potent by the fact that the matters the ISC considers are not typically—in fact, not at all—partisan. It operates on a non-partisan basis, although of course its members are drawn from both sides of the House, and the material that it studies is not seen through a party-political prism in any way; this Minister has engaged in sensible and meaningful discussion with members of the ISC in exactly that spirit during the passage of this legislation. Similarly, a meeting with the Prime Minister would be conducted in a way to which I think no Prime Minister could reasonably object .',\n",
       " 'The hon. and learned Lady will know about legal matters. I do not think that I can accept that the litigation, particularly in the High Court and the Court of Appeal, is just not relevant, especially as it pertained to the matters under debate.',\n",
       " 'How many prisoners have been released early under the end of custody supervised licence scheme since October 2023.',\n",
       " 'I accept what the Minister has just said, but where is the threshold for publicity? As he said, the Panama papers were widely distributed in the public domain, but somebody’s Facebook feed might be put into the public domain. If it gets into the national newspapers and on the internet, or it is shared by a certain number of people, do we then determine that it is in the public domain? We need to be very careful about this.',\n",
       " 'Is this an example of my being more hardline than the right hon. Gentleman? It seems like it to me, but perhaps not.',\n",
       " 'With great respect to the right hon. Gentleman, that is just another version of the same question about timing, and I have given a very clear answer on that.',\n",
       " 'What recent assessment he has made of trends in the level of violence against prison officers.',\n",
       " 'It would be a little bit of a stretch to comment on, let alone support, an unknown amendment to an unknown Bill.']"
      ]
     },
     "execution_count": 21,
     "metadata": {},
     "output_type": "execute_result"
    }
   ],
   "source": [
    "df[-10:][\"text\"].to_list()"
   ]
  }
 ],
 "metadata": {
  "kernelspec": {
   "display_name": "thesis",
   "language": "python",
   "name": "python3"
  },
  "language_info": {
   "codemirror_mode": {
    "name": "ipython",
    "version": 3
   },
   "file_extension": ".py",
   "mimetype": "text/x-python",
   "name": "python",
   "nbconvert_exporter": "python",
   "pygments_lexer": "ipython3",
   "version": "3.8.16"
  }
 },
 "nbformat": 4,
 "nbformat_minor": 2
}
