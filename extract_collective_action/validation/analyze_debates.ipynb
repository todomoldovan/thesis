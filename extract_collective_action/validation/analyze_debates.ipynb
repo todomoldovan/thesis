{
 "cells": [
  {
   "cell_type": "code",
   "execution_count": 1,
   "metadata": {},
   "outputs": [],
   "source": [
    "import pandas as pd"
   ]
  },
  {
   "cell_type": "code",
   "execution_count": 11,
   "metadata": {},
   "outputs": [],
   "source": [
    "dataset = \"debates\""
   ]
  },
  {
   "cell_type": "markdown",
   "metadata": {},
   "source": [
    "# BERT classifier"
   ]
  },
  {
   "cell_type": "code",
   "execution_count": 12,
   "metadata": {},
   "outputs": [],
   "source": [
    "df = pd.read_csv(f\"../data/predictions_roberta_simplified_synthetic_weights_{dataset}.csv\")\n",
    "df[\"prob_action\"] = df[\"class_probabilities\"].apply(lambda x: float(x.split(\",\")[0].split(\"[\")[1]))\n",
    "df[\"prob_nonaction\"] = df[\"class_probabilities\"].apply(lambda x: float(x.split(\",\")[1].split(\"]\")[0]))"
   ]
  },
  {
   "cell_type": "code",
   "execution_count": 13,
   "metadata": {},
   "outputs": [
    {
     "data": {
      "text/html": [
       "<div>\n",
       "<style scoped>\n",
       "    .dataframe tbody tr th:only-of-type {\n",
       "        vertical-align: middle;\n",
       "    }\n",
       "\n",
       "    .dataframe tbody tr th {\n",
       "        vertical-align: top;\n",
       "    }\n",
       "\n",
       "    .dataframe thead th {\n",
       "        text-align: right;\n",
       "    }\n",
       "</style>\n",
       "<table border=\"1\" class=\"dataframe\">\n",
       "  <thead>\n",
       "    <tr style=\"text-align: right;\">\n",
       "      <th></th>\n",
       "      <th>speech</th>\n",
       "      <th>text</th>\n",
       "      <th>id</th>\n",
       "      <th>predictions</th>\n",
       "      <th>class_probabilities</th>\n",
       "      <th>prob_action</th>\n",
       "      <th>prob_nonaction</th>\n",
       "    </tr>\n",
       "  </thead>\n",
       "  <tbody>\n",
       "    <tr>\n",
       "      <th>0</th>\n",
       "      <td>The hon. Gentleman really should not expect me...</td>\n",
       "      <td>The hon. Gentleman really should not expect me...</td>\n",
       "      <td>0</td>\n",
       "      <td>1</td>\n",
       "      <td>[0.00017605619542612462, 0.9998239438045738]</td>\n",
       "      <td>0.000176</td>\n",
       "      <td>0.999824</td>\n",
       "    </tr>\n",
       "    <tr>\n",
       "      <th>1</th>\n",
       "      <td>I remind Members that, in Committee, Members s...</td>\n",
       "      <td>I remind Members that, in Committee, Members s...</td>\n",
       "      <td>1</td>\n",
       "      <td>1</td>\n",
       "      <td>[8.061209438181984e-05, 0.9999193879056183]</td>\n",
       "      <td>0.000081</td>\n",
       "      <td>0.999919</td>\n",
       "    </tr>\n",
       "    <tr>\n",
       "      <th>2</th>\n",
       "      <td>I call the shadow Secretary of State.</td>\n",
       "      <td>I call the shadow Secretary of State.</td>\n",
       "      <td>2</td>\n",
       "      <td>1</td>\n",
       "      <td>[0.0001795279693467774, 0.9998204720306533]</td>\n",
       "      <td>0.000180</td>\n",
       "      <td>0.999820</td>\n",
       "    </tr>\n",
       "    <tr>\n",
       "      <th>3</th>\n",
       "      <td>I had anticipated a slightly longer opening sp...</td>\n",
       "      <td>I had anticipated a slightly longer opening sp...</td>\n",
       "      <td>3</td>\n",
       "      <td>1</td>\n",
       "      <td>[5.225226840386987e-05, 0.999947747731596]</td>\n",
       "      <td>0.000052</td>\n",
       "      <td>0.999948</td>\n",
       "    </tr>\n",
       "    <tr>\n",
       "      <th>4</th>\n",
       "      <td>That too is an important point. Obviously, any...</td>\n",
       "      <td>That too is an important point. Obviously, any...</td>\n",
       "      <td>4</td>\n",
       "      <td>1</td>\n",
       "      <td>[0.00011235328063870753, 0.9998876467193613]</td>\n",
       "      <td>0.000112</td>\n",
       "      <td>0.999888</td>\n",
       "    </tr>\n",
       "  </tbody>\n",
       "</table>\n",
       "</div>"
      ],
      "text/plain": [
       "                                              speech  \\\n",
       "0  The hon. Gentleman really should not expect me...   \n",
       "1  I remind Members that, in Committee, Members s...   \n",
       "2              I call the shadow Secretary of State.   \n",
       "3  I had anticipated a slightly longer opening sp...   \n",
       "4  That too is an important point. Obviously, any...   \n",
       "\n",
       "                                                text  id  predictions  \\\n",
       "0  The hon. Gentleman really should not expect me...   0            1   \n",
       "1  I remind Members that, in Committee, Members s...   1            1   \n",
       "2              I call the shadow Secretary of State.   2            1   \n",
       "3  I had anticipated a slightly longer opening sp...   3            1   \n",
       "4  That too is an important point. Obviously, any...   4            1   \n",
       "\n",
       "                            class_probabilities  prob_action  prob_nonaction  \n",
       "0  [0.00017605619542612462, 0.9998239438045738]     0.000176        0.999824  \n",
       "1   [8.061209438181984e-05, 0.9999193879056183]     0.000081        0.999919  \n",
       "2   [0.0001795279693467774, 0.9998204720306533]     0.000180        0.999820  \n",
       "3    [5.225226840386987e-05, 0.999947747731596]     0.000052        0.999948  \n",
       "4  [0.00011235328063870753, 0.9998876467193613]     0.000112        0.999888  "
      ]
     },
     "execution_count": 13,
     "metadata": {},
     "output_type": "execute_result"
    }
   ],
   "source": [
    "df.head()"
   ]
  },
  {
   "cell_type": "code",
   "execution_count": 14,
   "metadata": {},
   "outputs": [
    {
     "data": {
      "text/plain": [
       "0.27340129749768305"
      ]
     },
     "execution_count": 14,
     "metadata": {},
     "output_type": "execute_result"
    }
   ],
   "source": [
    "df[df[\"predictions\"]==0].shape[0]/df.shape[0]"
   ]
  },
  {
   "cell_type": "code",
   "execution_count": 15,
   "metadata": {},
   "outputs": [
    {
     "data": {
      "text/plain": [
       "count    1079.000000\n",
       "mean        0.272008\n",
       "std         0.425477\n",
       "min         0.000038\n",
       "25%         0.000073\n",
       "50%         0.000185\n",
       "75%         0.833796\n",
       "max         0.999956\n",
       "Name: prob_action, dtype: float64"
      ]
     },
     "execution_count": 15,
     "metadata": {},
     "output_type": "execute_result"
    }
   ],
   "source": [
    "df[\"prob_action\"].describe()"
   ]
  },
  {
   "cell_type": "code",
   "execution_count": 16,
   "metadata": {},
   "outputs": [],
   "source": [
    "df.drop(columns=[\"class_probabilities\"], inplace=True)"
   ]
  },
  {
   "cell_type": "code",
   "execution_count": 17,
   "metadata": {},
   "outputs": [
    {
     "name": "stdout",
     "output_type": "stream",
     "text": [
      "                                                 speech  \\\n",
      "301   If no one else wishes to speak, we will come t...   \n",
      "109   There is a desperate need for increased humani...   \n",
      "99    I would point to others, such as the Superloop...   \n",
      "915   The Israeli Government have said that they wan...   \n",
      "1013  The hon. Lady will be pleased to hear that I h...   \n",
      "\n",
      "                                                   text    id  predictions  \\\n",
      "301   If no one else wishes to speak, we will come t...   301            0   \n",
      "109   There is a desperate need for increased humani...   109            0   \n",
      "99    I would point to others, such as the Superloop...    99            0   \n",
      "915   The Israeli Government have said that they wan...   915            0   \n",
      "1013  The hon. Lady will be pleased to hear that I h...  1013            0   \n",
      "\n",
      "      prob_action  prob_nonaction  \n",
      "301      0.999956        0.000044  \n",
      "109      0.999951        0.000049  \n",
      "99       0.999943        0.000057  \n",
      "915      0.999934        0.000066  \n",
      "1013     0.999929        0.000071  \n",
      "                                                speech  \\\n",
      "88   I accept what the Minister has just said, but ...   \n",
      "6    Is this an example of my being more hardline t...   \n",
      "798  With great respect to the right hon. Gentleman...   \n",
      "313  What recent assessment he has made of trends i...   \n",
      "670  It would be a little bit of a stretch to comme...   \n",
      "\n",
      "                                                  text   id  predictions  \\\n",
      "88   I accept what the Minister has just said, but ...   88            1   \n",
      "6    Is this an example of my being more hardline t...    6            1   \n",
      "798  With great respect to the right hon. Gentleman...  798            1   \n",
      "313  What recent assessment he has made of trends i...  313            1   \n",
      "670  It would be a little bit of a stretch to comme...  670            1   \n",
      "\n",
      "     prob_action  prob_nonaction  \n",
      "88      0.000042        0.999958  \n",
      "6       0.000041        0.999959  \n",
      "798     0.000040        0.999960  \n",
      "313     0.000040        0.999960  \n",
      "670     0.000038        0.999962  \n"
     ]
    }
   ],
   "source": [
    "df = df.sort_values(by=\"prob_action\", ascending=False)\n",
    "print(df.head())\n",
    "print(df.tail())"
   ]
  },
  {
   "cell_type": "code",
   "execution_count": 20,
   "metadata": {},
   "outputs": [
    {
     "data": {
      "text/plain": [
       "['If no one else wishes to speak, we will come to the Front Benchers. I call the shadow Minister.',\n",
       " 'There is a desperate need for increased humanitarian support to Gaza. The UK, including the Ministry of Defence, is working collectively with allies, partners and international organisations to deliver desperately needed aid to the Gazan population.',\n",
       " 'I would point to others, such as the Superloop—the new buses that will go around London—and the Elizabeth line. The Mayor will be able to invest more in public services because of the revenue from the ULEZ scheme, enabling people to travel on our public transport. That is the action we need to take to really clean up our air. I have even taken to the streets for Clean Air Day to measure the clean air—or the polluted air—on Putney High Street. I used an ultra-fine particle counter, lent to me by the environmental research group at Imperial College London. It was amazing to take the counter out for the day and see the effects of air pollution. As I went down some of our main roads—Upper Richmond Road, Lower Richmond Road and Putney High Street—I saw a spike when buses and polluting cars came by. I thought there would be a constant level of dirty and polluted air, but it went up and down. I could see the impact of diesel buses and polluting cars. I thought of all the times that I had taken my children to primary school in Wandsworth over 15 years, walking along very polluted roads. All that time, it was damaging their lungs. This was worrying for me to see and for my constituents to know about.',\n",
       " 'The Israeli Government have said that they want to “flood” Gaza with aid. Will my right hon. Friend assure the House that we will work with our partners globally to get more aid into the hands of civilians in Gaza, and will assist the Israelis to deliver on that pledge as soon as possible?',\n",
       " 'The hon. Lady will be pleased to hear that I have sent teams both to Tampa to work with US Central Command and to the region to help with planning and constructing that pier. In addition, right at the beginning of the conflict, I ensured that we did hydrographic research, to aid in exactly this kind of situation, when the conditions were right to get a pier built. This is not a trivial endeavour, but we are working to deliver the pier as quickly as possible; there is the potential to get 2.5 million meals a day to Gaza.',\n",
       " 'The hon. Lady will be pleased to hear that the Foreign Secretary, the Prime Minister and I have been very proactive in speaking to and making multiple visits to the region. I have visited the majority of countries in the middle east and Gulf region to discuss exactly the points that she has raised. There is now a large-scale programme of using a pier to get food in, in addition to the many other efforts made. As my hon. Friend the Member for Colchester (Will Quince)',\n",
       " 'The first thing we need to do is bring greater transparency to service charges, which is what we are trying to do through the Leasehold and Freehold Reform Bill. Assuming that progress is made in the other place, I hope that it will be on the statute book as quickly as possible, and then it will be clear exactly where such costs come from. The second thing that is that our colleagues in the Financial Conduct Authority are bringing in the fair charging regime to make sure there are no inappropriate commissions and that, from an insurance perspective, exchanges are not under way with brokers, which will hopefully reduce the costs. The third thing is the industry-led insurance scheme, which should hopefully bring down insurance costs for those who are most exposed. However, the hon. Gentleman is absolutely right: we need greater transparency and a greater understanding of where these costs are going, and we need to make sure that freeholders and managing agents are following the law, which is very clear about the kinds of costs that can and cannot be allocated. If there is something specific about the building he mentions that the Government can look at, I will happily talk to him separately.',\n",
       " 'The Government will do everything we can in the interests of transparency, but I am sure that my hon. Friend appreciates that we, like everybody else, are bound by the Data Protection Act.',\n",
       " 'We are working to try to bring supplies to all the citizens of Gaza. I did not run through the list of provisions, but it does include provisions for those in medical need, particularly women who may be pregnant. As I mentioned, we are working on plans with the Americans in particular, but also with the Jordanians, to provide vastly greater amounts of aid into Gaza.',\n",
       " 'The remedy for what the hon. Gentleman so eloquently describes in his question rests with Hamas and the negotiators in Qatar. If they release the hostages and a pause is agreed, that will lead to the resolution of all the points that he has so rightly made.']"
      ]
     },
     "execution_count": 20,
     "metadata": {},
     "output_type": "execute_result"
    }
   ],
   "source": [
    "df[:10][\"text\"].to_list()"
   ]
  },
  {
   "cell_type": "code",
   "execution_count": 21,
   "metadata": {},
   "outputs": [
    {
     "data": {
      "text/plain": [
       "['Further to that point of order, Mr Deputy Speaker. Would it be in order to reveal the identity of the person concerned? I notice that that did not happen yesterday, but it is well known who that person is and how well qualified he is for the post for which he has been recommended.',\n",
       " 'I said that we are not going to be partisan in this debate, and the shadow Minister started in that vein, but my right hon. Friend has been highly contentious about the Bill that I took through the House. Bear in mind that it had pre-legislative scrutiny with a Committee of both Houses, it had at least three reports in advance of being considered by this House, and it was debated in this House at length, in the same spirit that I mentioned earlier, and many amendments were tabled, many of which were accepted by the Government. I have described the pretty full consideration and scrutiny that it received, which is why it is such an essential piece of legislation, as the Minister will confirm, and is used by the security services and the police every day.',\n",
       " 'The hon. Gentleman’s point is made more potent by the fact that the matters the ISC considers are not typically—in fact, not at all—partisan. It operates on a non-partisan basis, although of course its members are drawn from both sides of the House, and the material that it studies is not seen through a party-political prism in any way; this Minister has engaged in sensible and meaningful discussion with members of the ISC in exactly that spirit during the passage of this legislation. Similarly, a meeting with the Prime Minister would be conducted in a way to which I think no Prime Minister could reasonably object .',\n",
       " 'The hon. and learned Lady will know about legal matters. I do not think that I can accept that the litigation, particularly in the High Court and the Court of Appeal, is just not relevant, especially as it pertained to the matters under debate.',\n",
       " 'How many prisoners have been released early under the end of custody supervised licence scheme since October 2023.',\n",
       " 'I accept what the Minister has just said, but where is the threshold for publicity? As he said, the Panama papers were widely distributed in the public domain, but somebody’s Facebook feed might be put into the public domain. If it gets into the national newspapers and on the internet, or it is shared by a certain number of people, do we then determine that it is in the public domain? We need to be very careful about this.',\n",
       " 'Is this an example of my being more hardline than the right hon. Gentleman? It seems like it to me, but perhaps not.',\n",
       " 'With great respect to the right hon. Gentleman, that is just another version of the same question about timing, and I have given a very clear answer on that.',\n",
       " 'What recent assessment he has made of trends in the level of violence against prison officers.',\n",
       " 'It would be a little bit of a stretch to comment on, let alone support, an unknown amendment to an unknown Bill.']"
      ]
     },
     "execution_count": 21,
     "metadata": {},
     "output_type": "execute_result"
    }
   ],
   "source": [
    "df[-10:][\"text\"].to_list()"
   ]
  }
 ],
 "metadata": {
  "kernelspec": {
   "display_name": "py38",
   "language": "python",
   "name": "python3"
  },
  "language_info": {
   "codemirror_mode": {
    "name": "ipython",
    "version": 3
   },
   "file_extension": ".py",
   "mimetype": "text/x-python",
   "name": "python",
   "nbconvert_exporter": "python",
   "pygments_lexer": "ipython3",
   "version": "3.8.16"
  }
 },
 "nbformat": 4,
 "nbformat_minor": 2
}
