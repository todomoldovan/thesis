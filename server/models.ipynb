{
 "cells": [
  {
   "cell_type": "markdown",
   "metadata": {},
   "source": [
    "https://huggingface.co/ariannap22/collectiveaction_roberta_simplified_synthetic_weights"
   ]
  },
  {
   "cell_type": "code",
   "execution_count": 1,
   "metadata": {},
   "outputs": [],
   "source": [
    "import tqdm as notebook_tqdm"
   ]
  },
  {
   "cell_type": "code",
   "execution_count": 1,
   "metadata": {},
   "outputs": [
    {
     "name": "stderr",
     "output_type": "stream",
     "text": [
      "/mimer/NOBACKUP/groups/naiss2024-22-185/theodora/.venv/lib/python3.12/site-packages/tqdm/auto.py:21: TqdmWarning: IProgress not found. Please update jupyter and ipywidgets. See https://ipywidgets.readthedocs.io/en/stable/user_install.html\n",
      "  from .autonotebook import tqdm as notebook_tqdm\n"
     ]
    },
    {
     "name": "stdout",
     "output_type": "stream",
     "text": [
      "Text: We need to stand together for our rights!\n",
      "Predicted Class Index: 0\n",
      "Probabilities: [0.9999316930770874, 6.835876411059871e-05]\n",
      "---\n",
      "Text: I volunteer at the local food bank.\n",
      "Predicted Class Index: 0\n",
      "Probabilities: [0.9993014335632324, 0.0006985958316363394]\n",
      "---\n",
      "Text: This is just a casual discussion.\n",
      "Predicted Class Index: 1\n",
      "Probabilities: [4.518489367910661e-05, 0.9999548196792603]\n",
      "---\n",
      "Text: Hello, to our listeners and viewers. This is Big J. During this time, there have been protests worldwide over the murder of George Floyd by Minneapolis police officer Derek Chauvin in broad daylight and on camera. The protests for justice and against police brutality has been met with more police brutality. This has happened against citizens, journalists, and state and local politicians. Many people are peacefully protesting, but doing so in harm's way due to police officer attacks and escalations. This is also being done under the encouragement of the current administration, where there is no leadership or protections for the citizens to exercise their rights under the Constitution. That's why myself and co-host, Dag and Watney, want to make you aware of two organizations that are trying to help the people combat the systemic brutality that we face in the U.S. with our militarized police force. Act blue and the National bail fund network. They're raising bail funds and legal aid, along with other organizations, to help activists seeking justice for George Floyd and other victims of police brutality. Please consider donating to these causes. Beyond Track Podcast, thanks for your support.\n",
      "Predicted Class Index: 0\n",
      "Probabilities: [0.9998478889465332, 0.00015206159150693566]\n",
      "---\n"
     ]
    }
   ],
   "source": [
    "from transformers import AutoModelForSequenceClassification, AutoTokenizer\n",
    "\n",
    "# Set device to CPU or GPU\n",
    "import torch\n",
    "device = torch.device(\"cuda\" if torch.cuda.is_available() else \"cpu\")\n",
    "\n",
    "# Load model and tokenizer\n",
    "model_name = \"ariannap22/collectiveaction_roberta_simplified_synthetic_weights\"\n",
    "model = AutoModelForSequenceClassification.from_pretrained(model_name).to(device)\n",
    "tokenizer = AutoTokenizer.from_pretrained(model_name)\n",
    "#tokenizer = AutoTokenizer.from_pretrained(\"bert-base-uncased\")\n",
    "\n",
    "# Define the text you want to predict\n",
    "texts = [\n",
    "    \"We need to stand together for our rights!\",\n",
    "    \"I volunteer at the local food bank.\",\n",
    "    \"This is just a casual discussion.\",\n",
    "    \"Hello, to our listeners and viewers. This is Big J. During this time, there have been protests worldwide over the murder of George Floyd by Minneapolis police officer Derek Chauvin in broad daylight and on camera. The protests for justice and against police brutality has been met with more police brutality. This has happened against citizens, journalists, and state and local politicians. Many people are peacefully protesting, but doing so in harm's way due to police officer attacks and escalations. This is also being done under the encouragement of the current administration, where there is no leadership or protections for the citizens to exercise their rights under the Constitution. That's why myself and co-host, Dag and Watney, want to make you aware of two organizations that are trying to help the people combat the systemic brutality that we face in the U.S. with our militarized police force. Act blue and the National bail fund network. They're raising bail funds and legal aid, along with other organizations, to help activists seeking justice for George Floyd and other victims of police brutality. Please consider donating to these causes. Beyond Track Podcast, thanks for your support.\"\n",
    "]\n",
    "\n",
    "# Tokenize the input text\n",
    "inputs = tokenizer(\n",
    "    texts,\n",
    "    padding=True,  # Pad to the longest sequence in the batch\n",
    "    truncation=True,  # Truncate sequences longer than the model's max length\n",
    "    max_length=512,  # Adjust max length as needed\n",
    "    return_tensors=\"pt\"  # Return PyTorch tensors\n",
    ").to(device)\n",
    "\n",
    "# Perform prediction\n",
    "with torch.no_grad():\n",
    "    outputs = model(**inputs)\n",
    "    logits = outputs.logits  # Raw model outputs before softmax\n",
    "\n",
    "# Convert logits to probabilities (optional)\n",
    "probs = torch.nn.functional.softmax(logits, dim=-1)\n",
    "\n",
    "# Get predicted class indices\n",
    "predicted_class_indices = torch.argmax(probs, dim=-1)\n",
    "\n",
    "# Print results\n",
    "for text, idx, prob in zip(texts, predicted_class_indices, probs):\n",
    "    print(f\"Text: {text}\")\n",
    "    print(f\"Predicted Class Index: {idx.item()}\")\n",
    "    print(f\"Probabilities: {prob.tolist()}\")\n",
    "    print(\"---\")"
   ]
  },
  {
   "cell_type": "markdown",
   "metadata": {},
   "source": [
    "https://huggingface.co/ariannap22/collectiveaction_roberta_synthetic_weights_layered"
   ]
  },
  {
   "cell_type": "code",
   "execution_count": 2,
   "metadata": {},
   "outputs": [
    {
     "name": "stdout",
     "output_type": "stream",
     "text": [
      "Text: We need to stand together for our rights!\n",
      "Predicted Class Index: 1\n",
      "Probabilities: [3.908538201358169e-05, 0.9998513460159302, 4.53363754786551e-05, 6.424111052183434e-05]\n",
      "---\n",
      "Text: I volunteer at the local food bank.\n",
      "Predicted Class Index: 3\n",
      "Probabilities: [0.0002496389497537166, 0.0004949285066686571, 0.3077504336833954, 0.6915050148963928]\n",
      "---\n",
      "Text: Hello, to our listeners and viewers. This is Big J. During this time, there have been protests worldwide over the murder of George Floyd by Minneapolis police officer Derek Chauvin in broad daylight and on camera. The protests for justice and against police brutality has been met with more police brutality. This has happened against citizens, journalists, and state and local politicians. Many people are peacefully protesting, but doing so in harm's way due to police officer attacks and escalations. This is also being done under the encouragement of the current administration, where there is no leadership or protections for the citizens to exercise their rights under the Constitution. That's why myself and co-host, Dag and Watney, want to make you aware of two organizations that are trying to help the people combat the systemic brutality that we face in the U.S. with our militarized police force. Act blue and the National bail fund network. They're raising bail funds and legal aid, along with other organizations, to help activists seeking justice for George Floyd and other victims of police brutality. Please consider donating to these causes. Beyond Track Podcast, thanks for your support.\n",
      "Predicted Class Index: 0\n",
      "Probabilities: [0.9993159770965576, 0.0005486910813488066, 4.5663742639590055e-05, 8.974886441137642e-05]\n",
      "---\n"
     ]
    }
   ],
   "source": [
    "from transformers import AutoModelForSequenceClassification, AutoTokenizer\n",
    "\n",
    "# Set device to CPU or GPU\n",
    "import torch\n",
    "device = torch.device(\"cuda\" if torch.cuda.is_available() else \"cpu\")\n",
    "\n",
    "# Load model and tokenizer\n",
    "model_name = \"ariannap22/collectiveaction_roberta_synthetic_weights_layered\"\n",
    "model = AutoModelForSequenceClassification.from_pretrained(model_name).to(device)\n",
    "tokenizer = AutoTokenizer.from_pretrained(model_name)\n",
    "\n",
    "# Define the text you want to predict\n",
    "texts = [\n",
    "    \"We need to stand together for our rights!\",\n",
    "    \"I volunteer at the local food bank.\",\n",
    "    \"Hello, to our listeners and viewers. This is Big J. During this time, there have been protests worldwide over the murder of George Floyd by Minneapolis police officer Derek Chauvin in broad daylight and on camera. The protests for justice and against police brutality has been met with more police brutality. This has happened against citizens, journalists, and state and local politicians. Many people are peacefully protesting, but doing so in harm's way due to police officer attacks and escalations. This is also being done under the encouragement of the current administration, where there is no leadership or protections for the citizens to exercise their rights under the Constitution. That's why myself and co-host, Dag and Watney, want to make you aware of two organizations that are trying to help the people combat the systemic brutality that we face in the U.S. with our militarized police force. Act blue and the National bail fund network. They're raising bail funds and legal aid, along with other organizations, to help activists seeking justice for George Floyd and other victims of police brutality. Please consider donating to these causes. Beyond Track Podcast, thanks for your support.\"\n",
    "]\n",
    "\n",
    "# Tokenize the input text\n",
    "inputs = tokenizer(\n",
    "    texts,\n",
    "    padding=True,  # Pad to the longest sequence in the batch\n",
    "    truncation=True,  # Truncate sequences longer than the model's max length\n",
    "    max_length=512,  # Adjust max length as needed\n",
    "    return_tensors=\"pt\"  # Return PyTorch tensors\n",
    ").to(device)\n",
    "\n",
    "# Perform prediction\n",
    "with torch.no_grad():\n",
    "    outputs = model(**inputs)\n",
    "    logits = outputs.logits  # Raw model outputs before softmax\n",
    "\n",
    "# Convert logits to probabilities (optional)\n",
    "probs = torch.nn.functional.softmax(logits, dim=-1)\n",
    "\n",
    "# Get predicted class indices\n",
    "predicted_class_indices = torch.argmax(probs, dim=-1)\n",
    "\n",
    "# Print results\n",
    "for text, idx, prob in zip(texts, predicted_class_indices, probs):\n",
    "    print(f\"Text: {text}\")\n",
    "    print(f\"Predicted Class Index: {idx.item()}\")\n",
    "    print(f\"Probabilities: {prob.tolist()}\")\n",
    "    print(\"---\")"
   ]
  },
  {
   "cell_type": "markdown",
   "metadata": {},
   "source": [
    "https://huggingface.co/ariannap22/collectiveaction_sft_annotated_only_v6_prompt_v6_p100_synthetic_balanced_more_layered"
   ]
  },
  {
   "cell_type": "code",
   "execution_count": 3,
   "metadata": {},
   "outputs": [
    {
     "name": "stderr",
     "output_type": "stream",
     "text": [
      "Loading checkpoint shards: 100%|██████████| 4/4 [02:45<00:00, 41.49s/it]\n",
      "Device set to use cuda:0\n",
      "Device set to use cuda:0\n",
      "Device set to use cuda:0\n"
     ]
    },
    {
     "name": "stdout",
     "output_type": "stream",
     "text": [
      "Text: We need to stand together for our rights!\n",
      "Predicted Class: Call-to-Action\n",
      "---\n",
      "Text: I volunteer at the local food bank.\n",
      "Predicted Class: Execution\n",
      "---\n",
      "Text: Hello, to our listeners and viewers. This is Big J. During this time, there have been protests worldwide over the murder of George Floyd by Minneapolis police officer Derek Chauvin in broad daylight and on camera. The protests for justice and against police brutality has been met with more police brutality. This has happened against citizens, journalists, and state and local politicians. Many people are peacefully protesting, but doing so in harm's way due to police officer attacks and escalations. This is also being done under the encouragement of the current administration, where there is no leadership or protections for the citizens to exercise their rights under the Constitution. That's why myself and co-host, Dag and Watney, want to make you aware of two organizations that are trying to help the people combat the systemic brutality that we face in the U.S. with our militarized police force. Act blue and the National bail fund network. They're raising bail funds and legal aid, along with other organizations, to help activists seeking justice for George Floyd and other victims of police brutality. Please consider donating to these causes. Beyond Track Podcast, thanks for your support.\n",
      "Predicted Class: Call-to-Action\n",
      "---\n"
     ]
    }
   ],
   "source": [
    "from transformers import (AutoModelForCausalLM, \n",
    "                          AutoTokenizer, \n",
    "                          BitsAndBytesConfig, \n",
    "                          pipeline)\n",
    "\n",
    "model_dir = \"ariannap22/collectiveaction_sft_annotated_only_v6_prompt_v6_p100_synthetic_balanced_more_layered\"\n",
    "\n",
    "# Define the text you want to predict\n",
    "texts = [\n",
    "    \"We need to stand together for our rights!\",\n",
    "    \"I volunteer at the local food bank.\",\n",
    "    \"Hello, to our listeners and viewers. This is Big J. During this time, there have been protests worldwide over the murder of George Floyd by Minneapolis police officer Derek Chauvin in broad daylight and on camera. The protests for justice and against police brutality has been met with more police brutality. This has happened against citizens, journalists, and state and local politicians. Many people are peacefully protesting, but doing so in harm's way due to police officer attacks and escalations. This is also being done under the encouragement of the current administration, where there is no leadership or protections for the citizens to exercise their rights under the Constitution. That's why myself and co-host, Dag and Watney, want to make you aware of two organizations that are trying to help the people combat the systemic brutality that we face in the U.S. with our militarized police force. Act blue and the National bail fund network. They're raising bail funds and legal aid, along with other organizations, to help activists seeking justice for George Floyd and other victims of police brutality. Please consider donating to these causes. Beyond Track Podcast, thanks for your support.\"\n",
    "]\n",
    "\n",
    "# Define levels of participation in collective action¨\n",
    "dim_def = {'Problem-Solution': \"The comment highlights an issue and possibly suggests a way to fix it, often naming those responsible.\",\n",
    "            'Call-to-Action': \"The comment asks readers to take part in a specific activity, effort, or movement.\",\n",
    "            'Intention': \"The commenter shares their own desire to do something or be involved in solving a particular issue.\",\n",
    "            'Execution': \"The commenter is describing their personal experience taking direct actions towards a common goal.\"}\n",
    "\n",
    "# Define the prompt\n",
    "def generate_test_prompt6(data_point):\n",
    "    return f\"\"\"\n",
    "            You have the following knowledge about levels of participation in collective action that can be expressed in social media comments: {dim_def}. \n",
    "            \n",
    "            ### Definitions and Criteria:\n",
    "            **Collective Action Problem:** A present issue caused by human actions or decisions that affects a group and can be addressed through individual or collective efforts.\n",
    "\n",
    "            **Participation in collective action**: A comment must clearly reference a collective action problem, social movement, or activism by meeting at least one of the levels in the list {dim_def.keys()}.\n",
    "\n",
    "            Classify the following social media comment into one of the levels within the list {list(dim_def.keys())}. \n",
    "\n",
    "            ### Example of correct output format:\n",
    "            text: xyz\n",
    "            label: None\n",
    "            \n",
    "            Return the answer as the corresponding participation in collective action level label.\n",
    "\n",
    "            text: {data_point}\n",
    "            label: \"\"\".strip()\n",
    "\n",
    "texts_prompts = [generate_test_prompt6(text) for text in texts]\n",
    "\n",
    "# Prepare datasets and load model\n",
    "bnb_config = BitsAndBytesConfig(\n",
    "    load_in_4bit=True,\n",
    "    bnb_4bit_use_double_quant=False,\n",
    "    bnb_4bit_quant_type=\"nf4\",\n",
    "    bnb_4bit_compute_dtype=\"float16\",\n",
    ")\n",
    "\n",
    "model = AutoModelForCausalLM.from_pretrained(\n",
    "    model_dir,\n",
    "    device_map=\"auto\",\n",
    "    torch_dtype=\"float16\",\n",
    "    quantization_config=bnb_config, \n",
    ")\n",
    "\n",
    "model.config.use_cache = False\n",
    "model.config.pretraining_tp = 1\n",
    "\n",
    "tokenizer = AutoTokenizer.from_pretrained(model_dir)\n",
    "\n",
    "tokenizer.pad_token_id = tokenizer.eos_token_id\n",
    "\n",
    "# Define prediction \n",
    "def predict(texts, model, tokenizer):\n",
    "    y_pred = []\n",
    "    answers = []\n",
    "    categories = list(dim_def.keys())\n",
    "\n",
    "    for i in range(len(texts)):\n",
    "        prompt = texts[i]\n",
    "        pipe = pipeline(task=\"text-generation\", \n",
    "                        model=model, \n",
    "                        tokenizer=tokenizer, \n",
    "                        max_new_tokens=20, \n",
    "                        temperature=0.1)\n",
    "        \n",
    "        result = pipe(prompt)\n",
    "        answer = result[0]['generated_text'].split(\"label:\")[-1].strip()\n",
    "        answers.append(answer)\n",
    "        \n",
    "        # Determine the predicted category\n",
    "        for category in categories:\n",
    "            if category.lower() in answer.lower():\n",
    "                y_pred.append(category)\n",
    "                break\n",
    "        else:\n",
    "            y_pred.append(\"error\")\n",
    "    \n",
    "    return y_pred, answers\n",
    "\n",
    "y_pred, answer = predict(texts_prompts, model, tokenizer)\n",
    "\n",
    "# Print results\n",
    "for text, pred in zip(texts, y_pred):\n",
    "    print(f\"Text: {text}\")\n",
    "    print(f\"Predicted Class: {pred}\")\n",
    "    print(\"---\")"
   ]
  }
 ],
 "metadata": {
  "kernelspec": {
   "display_name": "jnthesis",
   "language": "python",
   "name": "python3"
  },
  "language_info": {
   "codemirror_mode": {
    "name": "ipython",
    "version": 3
   },
   "file_extension": ".py",
   "mimetype": "text/x-python",
   "name": "python",
   "nbconvert_exporter": "python",
   "pygments_lexer": "ipython3",
   "version": "3.12.3"
  },
  "vscode": {
   "interpreter": {
    "hash": "4cd341c76c366a2a0d229ce05761d626224bef317fa9ca85905b2539baa9d13f"
   }
  }
 },
 "nbformat": 4,
 "nbformat_minor": 2
}
